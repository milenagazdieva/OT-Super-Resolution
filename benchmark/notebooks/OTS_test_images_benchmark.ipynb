{
 "cells": [
  {
   "cell_type": "markdown",
   "metadata": {
    "papermill": {
     "duration": 0.016991,
     "end_time": "2021-04-23T21:34:44.999061",
     "exception": false,
     "start_time": "2021-04-23T21:34:44.982070",
     "status": "completed"
    },
    "tags": []
   },
   "source": [
    "# Testing Optimal Transport Solver (OTS) on Images Benchmark\n",
    "**GPU-only implementation.**"
   ]
  },
  {
   "cell_type": "code",
   "execution_count": null,
   "metadata": {
    "execution": {
     "iopub.execute_input": "2021-04-23T21:34:45.044727Z",
     "iopub.status.busy": "2021-04-23T21:34:45.043583Z",
     "iopub.status.idle": "2021-04-23T21:34:46.259187Z",
     "shell.execute_reply": "2021-04-23T21:34:46.258135Z"
    },
    "papermill": {
     "duration": 1.244962,
     "end_time": "2021-04-23T21:34:46.259453",
     "exception": false,
     "start_time": "2021-04-23T21:34:45.014491",
     "status": "completed"
    },
    "tags": []
   },
   "outputs": [],
   "source": [
    "import os, sys\n",
    "sys.path.append(\"..\")\n",
    "\n",
    "import matplotlib\n",
    "import numpy as np\n",
    "import matplotlib.pyplot as plt\n",
    "%matplotlib inline \n",
    "\n",
    "import numpy as np\n",
    "import torch\n",
    "import gc\n",
    "\n",
    "import pandas as pd\n",
    "\n",
    "from sklearn.decomposition import PCA\n",
    "from src.tools import unfreeze, freeze\n",
    "from src.resnet2 import ResNet_G, weights_init_G, ResNet_D\n",
    "from src.icnn import View\n",
    "from torch import nn\n",
    "import src.map_benchmark as mbm\n",
    "from src.unet import UNet\n",
    "import torch.nn.functional as F\n",
    "\n",
    "from tqdm import tqdm_notebook\n",
    "from IPython.display import clear_output"
   ]
  },
  {
   "cell_type": "markdown",
   "metadata": {
    "papermill": {
     "duration": 0.015011,
     "end_time": "2021-04-23T21:34:46.291357",
     "exception": false,
     "start_time": "2021-04-23T21:34:46.276346",
     "status": "completed"
    },
    "tags": []
   },
   "source": [
    "## Changable Config"
   ]
  },
  {
   "cell_type": "code",
   "execution_count": null,
   "metadata": {
    "execution": {
     "iopub.execute_input": "2021-04-23T21:34:46.323964Z",
     "iopub.status.busy": "2021-04-23T21:34:46.323152Z",
     "iopub.status.idle": "2021-04-23T21:34:46.325834Z",
     "shell.execute_reply": "2021-04-23T21:34:46.326498Z"
    },
    "papermill": {
     "duration": 0.021494,
     "end_time": "2021-04-23T21:34:46.326687",
     "exception": false,
     "start_time": "2021-04-23T21:34:46.305193",
     "status": "completed"
    },
    "tags": [
     "parameters"
    ]
   },
   "outputs": [],
   "source": [
    "BATCH_SIZE = 64\n",
    "GPU_DEVICE = 7\n",
    "\n",
    "T_ITERS = 10\n",
    "MAX_ITER = 25000\n",
    "\n",
    "assert torch.cuda.is_available()\n",
    "torch.cuda.set_device(GPU_DEVICE)\n",
    "torch.manual_seed(0x000000); np.random.seed(0x000000)\n",
    "\n",
    "OUT_PATH = '../checkpoints/IPM_vs_OTS/'\n",
    "if not os.path.exists(OUT_PATH):\n",
    "    os.makedirs(OUT_PATH)"
   ]
  },
  {
   "cell_type": "markdown",
   "metadata": {
    "papermill": {
     "duration": 0.013873,
     "end_time": "2021-04-23T21:34:46.473449",
     "exception": false,
     "start_time": "2021-04-23T21:34:46.459576",
     "status": "completed"
    },
    "tags": []
   },
   "source": [
    "## Benchmark Loading"
   ]
  },
  {
   "cell_type": "code",
   "execution_count": null,
   "metadata": {
    "execution": {
     "iopub.execute_input": "2021-04-23T21:34:46.506376Z",
     "iopub.status.busy": "2021-04-23T21:34:46.505607Z",
     "iopub.status.idle": "2021-04-23T21:37:05.326589Z",
     "shell.execute_reply": "2021-04-23T21:37:05.327054Z"
    },
    "papermill": {
     "duration": 138.840794,
     "end_time": "2021-04-23T21:37:05.327219",
     "exception": false,
     "start_time": "2021-04-23T21:34:46.486425",
     "status": "completed"
    },
    "tags": []
   },
   "outputs": [],
   "source": [
    "benchmark = mbm.CelebA64Benchmark(which='Early', batch_size=BATCH_SIZE)\n",
    "\n",
    "# Swap output and input\n",
    "X_sampler = benchmark.output_sampler\n",
    "Y_sampler = benchmark.input_sampler"
   ]
  },
  {
   "cell_type": "markdown",
   "metadata": {},
   "source": [
    "## Fixed images for plotting"
   ]
  },
  {
   "cell_type": "code",
   "execution_count": null,
   "metadata": {},
   "outputs": [],
   "source": [
    "Y_fixed = Y_sampler.sample(10).requires_grad_(True)\n",
    "X_fixed = benchmark.output_sampler.potential.push(Y_fixed).detach()\n",
    "Y_fixed.requires_grad_(False)"
   ]
  },
  {
   "cell_type": "markdown",
   "metadata": {
    "papermill": {
     "duration": 0.035046,
     "end_time": "2021-04-23T21:38:45.166304",
     "exception": false,
     "start_time": "2021-04-23T21:38:45.131258",
     "status": "completed"
    },
    "tags": []
   },
   "source": [
    "## Initializing networks"
   ]
  },
  {
   "cell_type": "code",
   "execution_count": null,
   "metadata": {},
   "outputs": [],
   "source": [
    "# Generator\n",
    "T = nn.Sequential(\n",
    "    View(3,64,64),\n",
    "    UNet(n_channels=3, n_classes=3),\n",
    "    View(64*64*3)\n",
    ")\n",
    "T = T.cuda()"
   ]
  },
  {
   "cell_type": "code",
   "execution_count": null,
   "metadata": {},
   "outputs": [],
   "source": [
    "# Potential\n",
    "D = nn.Sequential(\n",
    "    View(3, 64, 64),\n",
    "    ResNet_D(),\n",
    ")\n",
    "\n",
    "def weights_init_D(m):\n",
    "    classname = m.__class__.__name__\n",
    "    if classname.find('Conv') != -1:\n",
    "        nn.init.kaiming_normal_(m.weight, mode='fan_out', nonlinearity='leaky_relu')\n",
    "    elif classname.find('BatchNorm') != -1:\n",
    "        nn.init.constant_(m.weight, 1)\n",
    "        nn.init.constant_(m.bias, 0)\n",
    "\n",
    "D.apply(weights_init_D)\n",
    "D = D.cuda()"
   ]
  },
  {
   "cell_type": "markdown",
   "metadata": {},
   "source": [
    "## Plotting"
   ]
  },
  {
   "cell_type": "code",
   "execution_count": null,
   "metadata": {},
   "outputs": [],
   "source": [
    "def plot():\n",
    "    fig, axes = plt.subplots(3, len(X_fixed), figsize=(len(X_fixed)*2+.1, 3*2))\n",
    "    T_X_fixed = T(X_fixed).reshape(-1, 3, 64, 64).mul(.5).add(.5).clip(0, 1).cpu().detach()\n",
    "    X_in = X_fixed.reshape(-1, 3, 64, 64).mul(.5).add(.5).clip(0, 1).cpu().detach()\n",
    "    Y_out = Y_fixed.reshape(-1, 3, 64, 64).mul(.5).add(.5).clip(0, 1).cpu().detach()\n",
    "    for i in range(len(X_fixed)):\n",
    "        axes[0,i].imshow(X_in[i].permute(1, 2, 0))\n",
    "        axes[1,i].imshow(T_X_fixed[i].permute(1, 2, 0))\n",
    "        axes[2,i].imshow(Y_out[i].permute(1, 2, 0))\n",
    "        \n",
    "    for i, ax in enumerate(axes.flatten()):\n",
    "        ax.get_xaxis().set_visible(False)\n",
    "        ax.set_yticks([])\n",
    "        \n",
    "    axes[0, 0].set_ylabel(r'$x$', fontsize=30)\n",
    "    axes[1, 0].set_ylabel(r'$\\hat{T}(x)$', fontsize=30)\n",
    "    axes[2, 0].set_ylabel(r'$y$', fontsize=30)\n",
    "    \n",
    "    fig.tight_layout(h_pad=0.01, w_pad=0.01)\n",
    "    gc.collect(); torch.cuda.empty_cache()\n",
    "    return fig, axes\n",
    "\n",
    "fig, axes = plot()"
   ]
  },
  {
   "cell_type": "markdown",
   "metadata": {},
   "source": [
    "## Evaluation"
   ]
  },
  {
   "cell_type": "code",
   "execution_count": null,
   "metadata": {},
   "outputs": [],
   "source": [
    "def evaluate(size=2**14):\n",
    "    losses = []\n",
    "    for i in tqdm_notebook(range(0, size, BATCH_SIZE)):\n",
    "        Y = Y_sampler.sample(10).requires_grad_(True)\n",
    "        X = benchmark.output_sampler.potential.push(Y).detach()\n",
    "        with torch.no_grad():\n",
    "            losses.append((Y-T(X)).square().sum(dim=1).mean().item())\n",
    "    return 100 * np.mean(losses) / Y_sampler.var"
   ]
  },
  {
   "cell_type": "markdown",
   "metadata": {},
   "source": [
    "## Training Loss"
   ]
  },
  {
   "cell_type": "code",
   "execution_count": null,
   "metadata": {},
   "outputs": [],
   "source": [
    "def Wasserstein2Loss(D,T,X,Y):\n",
    "    T_X = T(X)\n",
    "    return F.mse_loss(X,T_X).mean() - D(T_X).mean() + D(Y).mean()"
   ]
  },
  {
   "cell_type": "markdown",
   "metadata": {},
   "source": [
    "## Main Training"
   ]
  },
  {
   "cell_type": "code",
   "execution_count": null,
   "metadata": {},
   "outputs": [],
   "source": [
    "T_opt = torch.optim.Adam(T.parameters(), betas=(0.,0.9), lr = 1e-4)\n",
    "D_opt = torch.optim.Adam(D.parameters(), betas=(0.,0.9), lr = 1e-4)\n",
    "best_L2_UVP = np.inf"
   ]
  },
  {
   "cell_type": "code",
   "execution_count": null,
   "metadata": {},
   "outputs": [],
   "source": [
    "for iteration in tqdm_notebook(range(MAX_ITER)):\n",
    "    ##########################################################\n",
    "    ## Outer maximization loop\n",
    "    ##########################################################   \n",
    "    freeze(T); unfreeze(D)\n",
    "    X, Y = X_sampler.sample(BATCH_SIZE), Y_sampler.sample(BATCH_SIZE)\n",
    "    D_loss = -Wasserstein2Loss(D, T, X, Y)\n",
    "    D_opt.zero_grad(); D_loss.backward(); D_opt.step()\n",
    "    del D_loss; gc.collect(); torch.cuda.empty_cache()\n",
    "\n",
    "    ##########################################################\n",
    "    ## Inner minimization loop\n",
    "    ##########################################################\n",
    "    freeze(D); unfreeze(T)\n",
    "    for it in range(T_ITERS):\n",
    "        X, Y = X_sampler.sample(BATCH_SIZE), Y_sampler.sample(BATCH_SIZE)\n",
    "        T_loss = Wasserstein2Loss(D, T, X, Y)\n",
    "        T_opt.zero_grad(); T_loss.backward(); T_opt.step()\n",
    "        del T_loss; gc.collect(); torch.cuda.empty_cache()\n",
    "    \n",
    "    if iteration % 50 == 0:\n",
    "        clear_output(wait=True)\n",
    "        print('Iteration: {}'.format(iteration))\n",
    "        \n",
    "        current_L2_UVP = evaluate()\n",
    "        if current_L2_UVP < best_L2_UVP:\n",
    "            best_L2_UVP = current_L2_UVP\n",
    "            torch.save(T.state_dict(), os.path.join(OUT_PATH, 'T.pt'))\n",
    "            \n",
    "        print('Current L2-UVP: {}'.format(current_L2_UVP))\n",
    "        print('Best L2-UVP: {}'.format(best_L2_UVP))\n",
    "        \n",
    "        fig, axes = plot()\n",
    "        plt.show()"
   ]
  },
  {
   "cell_type": "code",
   "execution_count": null,
   "metadata": {},
   "outputs": [],
   "source": []
  }
 ],
 "metadata": {
  "celltoolbar": "Tags",
  "kernelspec": {
   "display_name": "Python 3 (ipykernel)",
   "language": "python",
   "name": "python3"
  },
  "language_info": {
   "codemirror_mode": {
    "name": "ipython",
    "version": 3
   },
   "file_extension": ".py",
   "mimetype": "text/x-python",
   "name": "python",
   "nbconvert_exporter": "python",
   "pygments_lexer": "ipython3",
   "version": "3.9.7"
  },
  "papermill": {
   "default_parameters": {},
   "duration": 31058.429662,
   "end_time": "2021-04-24T06:12:22.508290",
   "environment_variables": {},
   "exception": null,
   "input_path": "../notebooks/MM_test_images_benchmark.ipynb",
   "output_path": "../output/test_images_benchmark/CelebA/Early_MM.ipynb",
   "parameters": {
    "GPU_DEVICE": 0,
    "REVERSED": false,
    "WHICH": "Early"
   },
   "start_time": "2021-04-23T21:34:44.078628",
   "version": "2.2.2"
  },
  "widgets": {
   "application/vnd.jupyter.widget-state+json": {
    "state": {
     "0813af28ed8d4da1abd2d458effd11e7": {
      "model_module": "@jupyter-widgets/base",
      "model_module_version": "1.2.0",
      "model_name": "LayoutModel",
      "state": {
       "_model_module": "@jupyter-widgets/base",
       "_model_module_version": "1.2.0",
       "_model_name": "LayoutModel",
       "_view_count": null,
       "_view_module": "@jupyter-widgets/base",
       "_view_module_version": "1.2.0",
       "_view_name": "LayoutView",
       "align_content": null,
       "align_items": null,
       "align_self": null,
       "border": null,
       "bottom": null,
       "display": null,
       "flex": null,
       "flex_flow": null,
       "grid_area": null,
       "grid_auto_columns": null,
       "grid_auto_flow": null,
       "grid_auto_rows": null,
       "grid_column": null,
       "grid_gap": null,
       "grid_row": null,
       "grid_template_areas": null,
       "grid_template_columns": null,
       "grid_template_rows": null,
       "height": null,
       "justify_content": null,
       "justify_items": null,
       "left": null,
       "margin": null,
       "max_height": null,
       "max_width": null,
       "min_height": null,
       "min_width": null,
       "object_fit": null,
       "object_position": null,
       "order": null,
       "overflow": null,
       "overflow_x": null,
       "overflow_y": null,
       "padding": null,
       "right": null,
       "top": null,
       "visibility": null,
       "width": null
      }
     },
     "0f51edab3a1c4c46b256fcaf698858a7": {
      "model_module": "@jupyter-widgets/controls",
      "model_module_version": "1.5.0",
      "model_name": "FloatProgressModel",
      "state": {
       "_dom_classes": [],
       "_model_module": "@jupyter-widgets/controls",
       "_model_module_version": "1.5.0",
       "_model_name": "FloatProgressModel",
       "_view_count": null,
       "_view_module": "@jupyter-widgets/controls",
       "_view_module_version": "1.5.0",
       "_view_name": "ProgressView",
       "bar_style": "success",
       "description": "100%",
       "description_tooltip": null,
       "layout": "IPY_MODEL_0813af28ed8d4da1abd2d458effd11e7",
       "max": 1000,
       "min": 0,
       "orientation": "horizontal",
       "style": "IPY_MODEL_f8778606d39e40aeb981fb81b1c8f6ca",
       "value": 1000
      }
     },
     "174a2960c0854558936762f259f23a42": {
      "model_module": "@jupyter-widgets/controls",
      "model_module_version": "1.5.0",
      "model_name": "HTMLModel",
      "state": {
       "_dom_classes": [],
       "_model_module": "@jupyter-widgets/controls",
       "_model_module_version": "1.5.0",
       "_model_name": "HTMLModel",
       "_view_count": null,
       "_view_module": "@jupyter-widgets/controls",
       "_view_module_version": "1.5.0",
       "_view_name": "HTMLView",
       "description": "",
       "description_tooltip": null,
       "layout": "IPY_MODEL_8bf33f23293743ddab532ee4f3b3b158",
       "placeholder": "​",
       "style": "IPY_MODEL_baf7a5f013b940ac921b61e75138d163",
       "value": " 0/1000 [00:00&lt;?, ?it/s]"
      }
     },
     "22983a7de440491992634aca41c8a93a": {
      "model_module": "@jupyter-widgets/base",
      "model_module_version": "1.2.0",
      "model_name": "LayoutModel",
      "state": {
       "_model_module": "@jupyter-widgets/base",
       "_model_module_version": "1.2.0",
       "_model_name": "LayoutModel",
       "_view_count": null,
       "_view_module": "@jupyter-widgets/base",
       "_view_module_version": "1.2.0",
       "_view_name": "LayoutView",
       "align_content": null,
       "align_items": null,
       "align_self": null,
       "border": null,
       "bottom": null,
       "display": null,
       "flex": null,
       "flex_flow": null,
       "grid_area": null,
       "grid_auto_columns": null,
       "grid_auto_flow": null,
       "grid_auto_rows": null,
       "grid_column": null,
       "grid_gap": null,
       "grid_row": null,
       "grid_template_areas": null,
       "grid_template_columns": null,
       "grid_template_rows": null,
       "height": null,
       "justify_content": null,
       "justify_items": null,
       "left": null,
       "margin": null,
       "max_height": null,
       "max_width": null,
       "min_height": null,
       "min_width": null,
       "object_fit": null,
       "object_position": null,
       "order": null,
       "overflow": null,
       "overflow_x": null,
       "overflow_y": null,
       "padding": null,
       "right": null,
       "top": null,
       "visibility": null,
       "width": null
      }
     },
     "3660ae87920542fa8da76f46bc119c10": {
      "model_module": "@jupyter-widgets/base",
      "model_module_version": "1.2.0",
      "model_name": "LayoutModel",
      "state": {
       "_model_module": "@jupyter-widgets/base",
       "_model_module_version": "1.2.0",
       "_model_name": "LayoutModel",
       "_view_count": null,
       "_view_module": "@jupyter-widgets/base",
       "_view_module_version": "1.2.0",
       "_view_name": "LayoutView",
       "align_content": null,
       "align_items": null,
       "align_self": null,
       "border": null,
       "bottom": null,
       "display": null,
       "flex": null,
       "flex_flow": null,
       "grid_area": null,
       "grid_auto_columns": null,
       "grid_auto_flow": null,
       "grid_auto_rows": null,
       "grid_column": null,
       "grid_gap": null,
       "grid_row": null,
       "grid_template_areas": null,
       "grid_template_columns": null,
       "grid_template_rows": null,
       "height": null,
       "justify_content": null,
       "justify_items": null,
       "left": null,
       "margin": null,
       "max_height": null,
       "max_width": null,
       "min_height": null,
       "min_width": null,
       "object_fit": null,
       "object_position": null,
       "order": null,
       "overflow": null,
       "overflow_x": null,
       "overflow_y": null,
       "padding": null,
       "right": null,
       "top": null,
       "visibility": null,
       "width": null
      }
     },
     "3798c8298b6f422988a22d54092c411b": {
      "model_module": "@jupyter-widgets/controls",
      "model_module_version": "1.5.0",
      "model_name": "ProgressStyleModel",
      "state": {
       "_model_module": "@jupyter-widgets/controls",
       "_model_module_version": "1.5.0",
       "_model_name": "ProgressStyleModel",
       "_view_count": null,
       "_view_module": "@jupyter-widgets/base",
       "_view_module_version": "1.2.0",
       "_view_name": "StyleView",
       "bar_color": null,
       "description_width": "initial"
      }
     },
     "6fc2f1ebff33479eb2d59204cf81a8e0": {
      "model_module": "@jupyter-widgets/controls",
      "model_module_version": "1.5.0",
      "model_name": "HBoxModel",
      "state": {
       "_dom_classes": [],
       "_model_module": "@jupyter-widgets/controls",
       "_model_module_version": "1.5.0",
       "_model_name": "HBoxModel",
       "_view_count": null,
       "_view_module": "@jupyter-widgets/controls",
       "_view_module_version": "1.5.0",
       "_view_name": "HBoxView",
       "box_style": "",
       "children": [
        "IPY_MODEL_ac03c749c5f24214a042ecbeed0f8398",
        "IPY_MODEL_174a2960c0854558936762f259f23a42"
       ],
       "layout": "IPY_MODEL_3660ae87920542fa8da76f46bc119c10"
      }
     },
     "8bf33f23293743ddab532ee4f3b3b158": {
      "model_module": "@jupyter-widgets/base",
      "model_module_version": "1.2.0",
      "model_name": "LayoutModel",
      "state": {
       "_model_module": "@jupyter-widgets/base",
       "_model_module_version": "1.2.0",
       "_model_name": "LayoutModel",
       "_view_count": null,
       "_view_module": "@jupyter-widgets/base",
       "_view_module_version": "1.2.0",
       "_view_name": "LayoutView",
       "align_content": null,
       "align_items": null,
       "align_self": null,
       "border": null,
       "bottom": null,
       "display": null,
       "flex": null,
       "flex_flow": null,
       "grid_area": null,
       "grid_auto_columns": null,
       "grid_auto_flow": null,
       "grid_auto_rows": null,
       "grid_column": null,
       "grid_gap": null,
       "grid_row": null,
       "grid_template_areas": null,
       "grid_template_columns": null,
       "grid_template_rows": null,
       "height": null,
       "justify_content": null,
       "justify_items": null,
       "left": null,
       "margin": null,
       "max_height": null,
       "max_width": null,
       "min_height": null,
       "min_width": null,
       "object_fit": null,
       "object_position": null,
       "order": null,
       "overflow": null,
       "overflow_x": null,
       "overflow_y": null,
       "padding": null,
       "right": null,
       "top": null,
       "visibility": null,
       "width": null
      }
     },
     "ac03c749c5f24214a042ecbeed0f8398": {
      "model_module": "@jupyter-widgets/controls",
      "model_module_version": "1.5.0",
      "model_name": "FloatProgressModel",
      "state": {
       "_dom_classes": [],
       "_model_module": "@jupyter-widgets/controls",
       "_model_module_version": "1.5.0",
       "_model_name": "FloatProgressModel",
       "_view_count": null,
       "_view_module": "@jupyter-widgets/controls",
       "_view_module_version": "1.5.0",
       "_view_name": "ProgressView",
       "bar_style": "danger",
       "description": "  0%",
       "description_tooltip": null,
       "layout": "IPY_MODEL_d7d5fe2124f8454ebaaafb99ba298d25",
       "max": 1000,
       "min": 0,
       "orientation": "horizontal",
       "style": "IPY_MODEL_3798c8298b6f422988a22d54092c411b",
       "value": 0
      }
     },
     "b20ede7b587649a28ff72c366caf3a1e": {
      "model_module": "@jupyter-widgets/controls",
      "model_module_version": "1.5.0",
      "model_name": "HBoxModel",
      "state": {
       "_dom_classes": [],
       "_model_module": "@jupyter-widgets/controls",
       "_model_module_version": "1.5.0",
       "_model_name": "HBoxModel",
       "_view_count": null,
       "_view_module": "@jupyter-widgets/controls",
       "_view_module_version": "1.5.0",
       "_view_name": "HBoxView",
       "box_style": "",
       "children": [
        "IPY_MODEL_0f51edab3a1c4c46b256fcaf698858a7",
        "IPY_MODEL_f8cf5d03f1054dc4ab987c295644c3ae"
       ],
       "layout": "IPY_MODEL_c41e789567ed405cb27895119e61f6e0"
      }
     },
     "baf7a5f013b940ac921b61e75138d163": {
      "model_module": "@jupyter-widgets/controls",
      "model_module_version": "1.5.0",
      "model_name": "DescriptionStyleModel",
      "state": {
       "_model_module": "@jupyter-widgets/controls",
       "_model_module_version": "1.5.0",
       "_model_name": "DescriptionStyleModel",
       "_view_count": null,
       "_view_module": "@jupyter-widgets/base",
       "_view_module_version": "1.2.0",
       "_view_name": "StyleView",
       "description_width": ""
      }
     },
     "c41e789567ed405cb27895119e61f6e0": {
      "model_module": "@jupyter-widgets/base",
      "model_module_version": "1.2.0",
      "model_name": "LayoutModel",
      "state": {
       "_model_module": "@jupyter-widgets/base",
       "_model_module_version": "1.2.0",
       "_model_name": "LayoutModel",
       "_view_count": null,
       "_view_module": "@jupyter-widgets/base",
       "_view_module_version": "1.2.0",
       "_view_name": "LayoutView",
       "align_content": null,
       "align_items": null,
       "align_self": null,
       "border": null,
       "bottom": null,
       "display": null,
       "flex": null,
       "flex_flow": null,
       "grid_area": null,
       "grid_auto_columns": null,
       "grid_auto_flow": null,
       "grid_auto_rows": null,
       "grid_column": null,
       "grid_gap": null,
       "grid_row": null,
       "grid_template_areas": null,
       "grid_template_columns": null,
       "grid_template_rows": null,
       "height": null,
       "justify_content": null,
       "justify_items": null,
       "left": null,
       "margin": null,
       "max_height": null,
       "max_width": null,
       "min_height": null,
       "min_width": null,
       "object_fit": null,
       "object_position": null,
       "order": null,
       "overflow": null,
       "overflow_x": null,
       "overflow_y": null,
       "padding": null,
       "right": null,
       "top": null,
       "visibility": null,
       "width": null
      }
     },
     "c699dc7342414044ae41fc44a3a41c96": {
      "model_module": "@jupyter-widgets/controls",
      "model_module_version": "1.5.0",
      "model_name": "DescriptionStyleModel",
      "state": {
       "_model_module": "@jupyter-widgets/controls",
       "_model_module_version": "1.5.0",
       "_model_name": "DescriptionStyleModel",
       "_view_count": null,
       "_view_module": "@jupyter-widgets/base",
       "_view_module_version": "1.2.0",
       "_view_name": "StyleView",
       "description_width": ""
      }
     },
     "d7d5fe2124f8454ebaaafb99ba298d25": {
      "model_module": "@jupyter-widgets/base",
      "model_module_version": "1.2.0",
      "model_name": "LayoutModel",
      "state": {
       "_model_module": "@jupyter-widgets/base",
       "_model_module_version": "1.2.0",
       "_model_name": "LayoutModel",
       "_view_count": null,
       "_view_module": "@jupyter-widgets/base",
       "_view_module_version": "1.2.0",
       "_view_name": "LayoutView",
       "align_content": null,
       "align_items": null,
       "align_self": null,
       "border": null,
       "bottom": null,
       "display": null,
       "flex": null,
       "flex_flow": null,
       "grid_area": null,
       "grid_auto_columns": null,
       "grid_auto_flow": null,
       "grid_auto_rows": null,
       "grid_column": null,
       "grid_gap": null,
       "grid_row": null,
       "grid_template_areas": null,
       "grid_template_columns": null,
       "grid_template_rows": null,
       "height": null,
       "justify_content": null,
       "justify_items": null,
       "left": null,
       "margin": null,
       "max_height": null,
       "max_width": null,
       "min_height": null,
       "min_width": null,
       "object_fit": null,
       "object_position": null,
       "order": null,
       "overflow": null,
       "overflow_x": null,
       "overflow_y": null,
       "padding": null,
       "right": null,
       "top": null,
       "visibility": null,
       "width": null
      }
     },
     "f8778606d39e40aeb981fb81b1c8f6ca": {
      "model_module": "@jupyter-widgets/controls",
      "model_module_version": "1.5.0",
      "model_name": "ProgressStyleModel",
      "state": {
       "_model_module": "@jupyter-widgets/controls",
       "_model_module_version": "1.5.0",
       "_model_name": "ProgressStyleModel",
       "_view_count": null,
       "_view_module": "@jupyter-widgets/base",
       "_view_module_version": "1.2.0",
       "_view_name": "StyleView",
       "bar_color": null,
       "description_width": "initial"
      }
     },
     "f8cf5d03f1054dc4ab987c295644c3ae": {
      "model_module": "@jupyter-widgets/controls",
      "model_module_version": "1.5.0",
      "model_name": "HTMLModel",
      "state": {
       "_dom_classes": [],
       "_model_module": "@jupyter-widgets/controls",
       "_model_module_version": "1.5.0",
       "_model_name": "HTMLModel",
       "_view_count": null,
       "_view_module": "@jupyter-widgets/controls",
       "_view_module_version": "1.5.0",
       "_view_name": "HTMLView",
       "description": "",
       "description_tooltip": null,
       "layout": "IPY_MODEL_22983a7de440491992634aca41c8a93a",
       "placeholder": "​",
       "style": "IPY_MODEL_c699dc7342414044ae41fc44a3a41c96",
       "value": " 1000/1000 [01:36&lt;00:00, 10.41it/s]"
      }
     }
    },
    "version_major": 2,
    "version_minor": 0
   }
  }
 },
 "nbformat": 4,
 "nbformat_minor": 2
}
